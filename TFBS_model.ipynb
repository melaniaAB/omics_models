{
  "cells": [
    {
      "cell_type": "markdown",
      "metadata": {
        "id": "B_tT5TJjZ_ub"
      },
      "source": [
        "# CNN for TFBS predictions and model interpretability\n",
        "\n",
        "Training a CNN model on DNA data including binding sites for TF proteins!\n",
        "The goal is to make predictions for Transcription Factor Binding Sites (TFBS)."
      ]
    },
    {
      "cell_type": "markdown",
      "metadata": {
        "id": "iBoAfKrwZ_uj"
      },
      "source": [
        "## Loading Libraries"
      ]
    },
    {
      "cell_type": "code",
      "source": [
        "from google.colab import drive \n",
        "drive.mount('/content/gdrive')"
      ],
      "metadata": {
        "colab": {
          "base_uri": "https://localhost:8080/"
        },
        "id": "k_UOeosHau_l",
        "outputId": "f6fa1261-cee9-4036-bad6-6dd09a1e7abd"
      },
      "execution_count": null,
      "outputs": [
        {
          "output_type": "stream",
          "name": "stdout",
          "text": [
            "Mounted at /content/gdrive\n"
          ]
        }
      ]
    },
    {
      "cell_type": "code",
      "execution_count": null,
      "metadata": {
        "id": "mUkyjwzRZ_ul"
      },
      "outputs": [],
      "source": [
        "import pandas as pd\n",
        "import numpy as np\n",
        "\n",
        "from keras.layers.convolutional import Conv1D, MaxPooling1D\n",
        "from keras.layers.core import Dense, Flatten\n",
        "from keras.models import Sequential\n",
        "from keras.callbacks import EarlyStopping, ModelCheckpoint\n",
        "\n",
        "from sklearn.metrics import roc_curve, auc, average_precision_score\n",
        "from sklearn.model_selection import train_test_split\n",
        "from sklearn.preprocessing import LabelEncoder, OneHotEncoder"
      ]
    },
    {
      "cell_type": "markdown",
      "metadata": {
        "id": "2SbxuCOgZ_un"
      },
      "source": [
        "## Load the sequence data"
      ]
    },
    {
      "cell_type": "code",
      "execution_count": null,
      "metadata": {
        "colab": {
          "base_uri": "https://localhost:8080/"
        },
        "id": "sxqOMhjcZ_uo",
        "outputId": "3ccca3ba-f788-43c5-a646-1308a74dcbb1"
      },
      "outputs": [
        {
          "output_type": "stream",
          "name": "stdout",
          "text": [
            "50\n"
          ]
        }
      ],
      "source": [
        "input_fasta_data = pd.read_table(\"TFBS_sequences_a.txt\", header=None)\n",
        "input_fasta_data.rename(columns={0: \"sequence\"}, inplace=True)\n",
        "sequence_length = len(input_fasta_data.sequence[0])\n",
        "print(sequence_length)"
      ]
    },
    {
      "cell_type": "code",
      "source": [
        "input_fasta_data.head()"
      ],
      "metadata": {
        "colab": {
          "base_uri": "https://localhost:8080/",
          "height": 206
        },
        "id": "PtXSeimXg3bc",
        "outputId": "7a356599-0f6f-43dc-cd4a-bc34ede4778e"
      },
      "execution_count": null,
      "outputs": [
        {
          "output_type": "execute_result",
          "data": {
            "text/plain": [
              "                                            sequence\n",
              "0  CCGAGGGCTATGGTTTGGAAGTTAGAACCCTGGGGCTTCTCGCGGA...\n",
              "1  GAGTTTATATGGCGCGAGCCTAGTGGTTTTTGTACTTGTTTGTCGC...\n",
              "2  GATCAGTAGGGAAACAAACAGAGGGCCCAGCCACATCTAGCAGGTA...\n",
              "3  GTCCAAAAGAGGAAGTTCACCTTGACCGCAGAGGTACCACCAGAGC...\n",
              "4  GGAAAGAGGAAGTTAACTAGAACCTGCATAACTGGCCTGGGAGATA..."
            ],
            "text/html": [
              "\n",
              "  <div id=\"df-f6a7879a-3970-4a5c-aef8-43f44d602c48\">\n",
              "    <div class=\"colab-df-container\">\n",
              "      <div>\n",
              "<style scoped>\n",
              "    .dataframe tbody tr th:only-of-type {\n",
              "        vertical-align: middle;\n",
              "    }\n",
              "\n",
              "    .dataframe tbody tr th {\n",
              "        vertical-align: top;\n",
              "    }\n",
              "\n",
              "    .dataframe thead th {\n",
              "        text-align: right;\n",
              "    }\n",
              "</style>\n",
              "<table border=\"1\" class=\"dataframe\">\n",
              "  <thead>\n",
              "    <tr style=\"text-align: right;\">\n",
              "      <th></th>\n",
              "      <th>sequence</th>\n",
              "    </tr>\n",
              "  </thead>\n",
              "  <tbody>\n",
              "    <tr>\n",
              "      <th>0</th>\n",
              "      <td>CCGAGGGCTATGGTTTGGAAGTTAGAACCCTGGGGCTTCTCGCGGA...</td>\n",
              "    </tr>\n",
              "    <tr>\n",
              "      <th>1</th>\n",
              "      <td>GAGTTTATATGGCGCGAGCCTAGTGGTTTTTGTACTTGTTTGTCGC...</td>\n",
              "    </tr>\n",
              "    <tr>\n",
              "      <th>2</th>\n",
              "      <td>GATCAGTAGGGAAACAAACAGAGGGCCCAGCCACATCTAGCAGGTA...</td>\n",
              "    </tr>\n",
              "    <tr>\n",
              "      <th>3</th>\n",
              "      <td>GTCCAAAAGAGGAAGTTCACCTTGACCGCAGAGGTACCACCAGAGC...</td>\n",
              "    </tr>\n",
              "    <tr>\n",
              "      <th>4</th>\n",
              "      <td>GGAAAGAGGAAGTTAACTAGAACCTGCATAACTGGCCTGGGAGATA...</td>\n",
              "    </tr>\n",
              "  </tbody>\n",
              "</table>\n",
              "</div>\n",
              "      <button class=\"colab-df-convert\" onclick=\"convertToInteractive('df-f6a7879a-3970-4a5c-aef8-43f44d602c48')\"\n",
              "              title=\"Convert this dataframe to an interactive table.\"\n",
              "              style=\"display:none;\">\n",
              "        \n",
              "  <svg xmlns=\"http://www.w3.org/2000/svg\" height=\"24px\"viewBox=\"0 0 24 24\"\n",
              "       width=\"24px\">\n",
              "    <path d=\"M0 0h24v24H0V0z\" fill=\"none\"/>\n",
              "    <path d=\"M18.56 5.44l.94 2.06.94-2.06 2.06-.94-2.06-.94-.94-2.06-.94 2.06-2.06.94zm-11 1L8.5 8.5l.94-2.06 2.06-.94-2.06-.94L8.5 2.5l-.94 2.06-2.06.94zm10 10l.94 2.06.94-2.06 2.06-.94-2.06-.94-.94-2.06-.94 2.06-2.06.94z\"/><path d=\"M17.41 7.96l-1.37-1.37c-.4-.4-.92-.59-1.43-.59-.52 0-1.04.2-1.43.59L10.3 9.45l-7.72 7.72c-.78.78-.78 2.05 0 2.83L4 21.41c.39.39.9.59 1.41.59.51 0 1.02-.2 1.41-.59l7.78-7.78 2.81-2.81c.8-.78.8-2.07 0-2.86zM5.41 20L4 18.59l7.72-7.72 1.47 1.35L5.41 20z\"/>\n",
              "  </svg>\n",
              "      </button>\n",
              "      \n",
              "  <style>\n",
              "    .colab-df-container {\n",
              "      display:flex;\n",
              "      flex-wrap:wrap;\n",
              "      gap: 12px;\n",
              "    }\n",
              "\n",
              "    .colab-df-convert {\n",
              "      background-color: #E8F0FE;\n",
              "      border: none;\n",
              "      border-radius: 50%;\n",
              "      cursor: pointer;\n",
              "      display: none;\n",
              "      fill: #1967D2;\n",
              "      height: 32px;\n",
              "      padding: 0 0 0 0;\n",
              "      width: 32px;\n",
              "    }\n",
              "\n",
              "    .colab-df-convert:hover {\n",
              "      background-color: #E2EBFA;\n",
              "      box-shadow: 0px 1px 2px rgba(60, 64, 67, 0.3), 0px 1px 3px 1px rgba(60, 64, 67, 0.15);\n",
              "      fill: #174EA6;\n",
              "    }\n",
              "\n",
              "    [theme=dark] .colab-df-convert {\n",
              "      background-color: #3B4455;\n",
              "      fill: #D2E3FC;\n",
              "    }\n",
              "\n",
              "    [theme=dark] .colab-df-convert:hover {\n",
              "      background-color: #434B5C;\n",
              "      box-shadow: 0px 1px 3px 1px rgba(0, 0, 0, 0.15);\n",
              "      filter: drop-shadow(0px 1px 2px rgba(0, 0, 0, 0.3));\n",
              "      fill: #FFFFFF;\n",
              "    }\n",
              "  </style>\n",
              "\n",
              "      <script>\n",
              "        const buttonEl =\n",
              "          document.querySelector('#df-f6a7879a-3970-4a5c-aef8-43f44d602c48 button.colab-df-convert');\n",
              "        buttonEl.style.display =\n",
              "          google.colab.kernel.accessAllowed ? 'block' : 'none';\n",
              "\n",
              "        async function convertToInteractive(key) {\n",
              "          const element = document.querySelector('#df-f6a7879a-3970-4a5c-aef8-43f44d602c48');\n",
              "          const dataTable =\n",
              "            await google.colab.kernel.invokeFunction('convertToInteractive',\n",
              "                                                     [key], {});\n",
              "          if (!dataTable) return;\n",
              "\n",
              "          const docLinkHtml = 'Like what you see? Visit the ' +\n",
              "            '<a target=\"_blank\" href=https://colab.research.google.com/notebooks/data_table.ipynb>data table notebook</a>'\n",
              "            + ' to learn more about interactive tables.';\n",
              "          element.innerHTML = '';\n",
              "          dataTable['output_type'] = 'display_data';\n",
              "          await google.colab.output.renderOutput(dataTable, element);\n",
              "          const docLink = document.createElement('div');\n",
              "          docLink.innerHTML = docLinkHtml;\n",
              "          element.appendChild(docLink);\n",
              "        }\n",
              "      </script>\n",
              "    </div>\n",
              "  </div>\n",
              "  "
            ]
          },
          "metadata": {},
          "execution_count": 5
        }
      ]
    },
    {
      "cell_type": "markdown",
      "metadata": {
        "id": "_iepuKi6Z_up"
      },
      "source": [
        "## Label - One hot encoding"
      ]
    },
    {
      "cell_type": "code",
      "execution_count": null,
      "metadata": {
        "colab": {
          "base_uri": "https://localhost:8080/"
        },
        "id": "C4cnAIibZ_uq",
        "outputId": "130f6bb9-2c9a-435c-b25b-00960e76352d"
      },
      "outputs": [
        {
          "output_type": "stream",
          "name": "stdout",
          "text": [
            "(2000, 50, 4)\n"
          ]
        }
      ],
      "source": [
        "lec = LabelEncoder()   \n",
        "ohe = OneHotEncoder(categories='auto')    \n",
        "seq_matrix = [] \n",
        "for sequence in input_fasta_data.sequence: \n",
        "  lecd = lec.fit_transform(list(sequence)) \n",
        "  lecd = np.array(lecd).reshape(-1, 1) \n",
        "  \n",
        "  ohed = ohe.fit_transform(lecd)\n",
        "  seq_matrix.append(ohed.toarray())\n",
        "seq_matrix = np.stack(seq_matrix)\n",
        "print(seq_matrix.shape)"
      ]
    },
    {
      "cell_type": "markdown",
      "metadata": {
        "id": "lyDYWUqmZ_ur"
      },
      "source": [
        "## Target labels"
      ]
    },
    {
      "cell_type": "code",
      "execution_count": null,
      "metadata": {
        "colab": {
          "base_uri": "https://localhost:8080/"
        },
        "id": "rv3uwakAZ_ur",
        "outputId": "c6812fa6-a879-4638-e0a1-e217dc183904"
      },
      "outputs": [
        {
          "output_type": "stream",
          "name": "stdout",
          "text": [
            "(2000,)\n"
          ]
        }
      ],
      "source": [
        "labels = pd.read_csv('TFBS_labels.txt')\n",
        "Y = np.array(labels).reshape(-1) \n",
        "print(Y.shape)\n"
      ]
    },
    {
      "cell_type": "markdown",
      "metadata": {
        "id": "7t8qXU3oZ_us"
      },
      "source": [
        "### Distribution of Positive and Negative samples"
      ]
    },
    {
      "cell_type": "code",
      "execution_count": null,
      "metadata": {
        "colab": {
          "base_uri": "https://localhost:8080/"
        },
        "id": "py2w-WKHZ_ut",
        "outputId": "d34a1f60-a4e0-4b76-fe94-e530bbd03bb3"
      },
      "outputs": [
        {
          "output_type": "stream",
          "name": "stdout",
          "text": [
            "0    1013\n",
            "1     987\n",
            "dtype: int64\n"
          ]
        }
      ],
      "source": [
        "print(pd.DataFrame(Y).value_counts())"
      ]
    },
    {
      "cell_type": "markdown",
      "metadata": {
        "id": "n7mhe_iNZ_ut"
      },
      "source": [
        "# Train-test split\n"
      ]
    },
    {
      "cell_type": "code",
      "execution_count": null,
      "metadata": {
        "colab": {
          "base_uri": "https://localhost:8080/"
        },
        "id": "qdlb5RKFZ_uu",
        "outputId": "4178604b-a5ff-4e2c-93cb-3df2d747be52"
      },
      "outputs": [
        {
          "output_type": "stream",
          "name": "stdout",
          "text": [
            "(1500, 50, 4)\n",
            "(1500,)\n"
          ]
        }
      ],
      "source": [
        "X_train, X_test, Y_train, Y_test = train_test_split(seq_matrix, Y, test_size=0.25, random_state=42, shuffle=True) \n",
        "X_train.shape, X_test.shape, Y_train.shape, Y_test.shape\n",
        "\n",
        "print(X_train.shape)\n",
        "print(Y_train.shape)"
      ]
    },
    {
      "cell_type": "code",
      "execution_count": null,
      "metadata": {
        "colab": {
          "base_uri": "https://localhost:8080/"
        },
        "id": "s8gmAOXKZ_uv",
        "outputId": "15ca132a-227c-43dd-c9e9-3635a804f273"
      },
      "outputs": [
        {
          "output_type": "stream",
          "name": "stdout",
          "text": [
            "(1500, 50, 4) (1500, 50, 4, 1)\n",
            "(500, 50, 4) (500, 50, 4, 1)\n"
          ]
        }
      ],
      "source": [
        "# Reshaping the data to correspond to the input format \n",
        "X_train_reshaped = X_train.reshape((X_train.shape[0], X_train.shape[1], X_train.shape[2], 1))\n",
        "X_test_reshaped = X_test.reshape((X_test.shape[0], X_test.shape[1], X_test.shape[2], 1))\n",
        "print(X_train.shape, X_train_reshaped.shape)\n",
        "print(X_test.shape, X_test_reshaped.shape)"
      ]
    },
    {
      "cell_type": "markdown",
      "metadata": {
        "id": "8JkD6Eu4Z_uv"
      },
      "source": [
        "## Create a simple CNN model"
      ]
    },
    {
      "cell_type": "code",
      "execution_count": null,
      "metadata": {
        "colab": {
          "base_uri": "https://localhost:8080/"
        },
        "id": "8LwNDEolZ_uw",
        "outputId": "5f44ae8e-fec8-455c-98a3-49e480e9ad21"
      },
      "outputs": [
        {
          "output_type": "stream",
          "name": "stdout",
          "text": [
            "Model: \"sequential\"\n",
            "_________________________________________________________________\n",
            " Layer (type)                Output Shape              Param #   \n",
            "=================================================================\n",
            " conv1d (Conv1D)             (None, 39, 32)            1568      \n",
            "                                                                 \n",
            " max_pooling1d (MaxPooling1D  (None, 9, 32)            0         \n",
            " )                                                               \n",
            "                                                                 \n",
            " flatten (Flatten)           (None, 288)               0         \n",
            "                                                                 \n",
            " dense (Dense)               (None, 16)                4624      \n",
            "                                                                 \n",
            " dense_1 (Dense)             (None, 1)                 17        \n",
            "                                                                 \n",
            "=================================================================\n",
            "Total params: 6,209\n",
            "Trainable params: 6,209\n",
            "Non-trainable params: 0\n",
            "_________________________________________________________________\n"
          ]
        }
      ],
      "source": [
        "model = Sequential()\n",
        "model.add(Conv1D(filters=32, kernel_size=12, input_shape=(50, 4)))\n",
        "model.add(MaxPooling1D(pool_size=4))\n",
        "model.add(Flatten())\n",
        "model.add(Dense(16, activation='relu'))\n",
        "model.add(Dense(1, activation='sigmoid'))\n",
        "model.compile(loss='mean_squared_error', optimizer='adam')\n",
        "model.summary()"
      ]
    },
    {
      "cell_type": "markdown",
      "metadata": {
        "id": "w6S4r7JdZ_uw"
      },
      "source": [
        "# Fit the model"
      ]
    },
    {
      "cell_type": "code",
      "execution_count": null,
      "metadata": {
        "colab": {
          "base_uri": "https://localhost:8080/"
        },
        "id": "EsAcmOlVZ_uw",
        "outputId": "2a5f6fee-5e96-47b7-bae3-74c5163e413b"
      },
      "outputs": [
        {
          "output_type": "stream",
          "name": "stdout",
          "text": [
            "Epoch 1/10\n",
            "135/135 [==============================] - 1s 5ms/step - loss: 0.1932 - val_loss: 0.1461\n",
            "Epoch 2/10\n",
            "135/135 [==============================] - 0s 4ms/step - loss: 0.1142 - val_loss: 0.1193\n",
            "Epoch 3/10\n",
            "135/135 [==============================] - 0s 4ms/step - loss: 0.0808 - val_loss: 0.0827\n",
            "Epoch 4/10\n",
            "135/135 [==============================] - 1s 4ms/step - loss: 0.0515 - val_loss: 0.0643\n",
            "Epoch 5/10\n",
            "135/135 [==============================] - 0s 3ms/step - loss: 0.0302 - val_loss: 0.0443\n",
            "Epoch 6/10\n",
            "135/135 [==============================] - 0s 3ms/step - loss: 0.0189 - val_loss: 0.0337\n",
            "Epoch 7/10\n",
            "135/135 [==============================] - 0s 3ms/step - loss: 0.0126 - val_loss: 0.0277\n",
            "Epoch 8/10\n",
            "135/135 [==============================] - 0s 3ms/step - loss: 0.0098 - val_loss: 0.0235\n",
            "Epoch 9/10\n",
            "135/135 [==============================] - 0s 4ms/step - loss: 0.0054 - val_loss: 0.0227\n",
            "Epoch 10/10\n",
            "135/135 [==============================] - 0s 3ms/step - loss: 0.0034 - val_loss: 0.0196\n"
          ]
        }
      ],
      "source": [
        "history = model.fit(X_train_reshaped, Y_train,\n",
        "          batch_size=10, epochs=10,\n",
        "          validation_split=0.1)"
      ]
    },
    {
      "cell_type": "markdown",
      "metadata": {
        "id": "YDvT_pYTZ_ux"
      },
      "source": [
        "# Visualization"
      ]
    },
    {
      "cell_type": "code",
      "execution_count": null,
      "metadata": {
        "colab": {
          "base_uri": "https://localhost:8080/",
          "height": 284
        },
        "id": "xa7Oxc3rZ_ux",
        "outputId": "df9b5944-4380-4cd0-8d8e-b8f415429262"
      },
      "outputs": [
        {
          "output_type": "execute_result",
          "data": {
            "text/plain": [
              "<matplotlib.legend.Legend at 0x7fc98f9fc940>"
            ]
          },
          "metadata": {},
          "execution_count": 13
        },
        {
          "output_type": "display_data",
          "data": {
            "text/plain": [
              "<Figure size 432x288 with 1 Axes>"
            ],
            "image/png": "[encoded data removed]"
          },
          "metadata": {
            "needs_background": "light"
          }
        }
      ],
      "source": [
        "import matplotlib.pyplot as plt\n",
        "plt.plot(history.history['loss'])\n",
        "plt.plot(history.history['val_loss'])\n",
        "plt.legend(['loss', 'val_loss'])"
      ]
    },
    {
      "cell_type": "markdown",
      "metadata": {
        "id": "mN-HxrmwZ_ux"
      },
      "source": [
        "## Evaluating the Model\n",
        "\n",
        "Using metrics as AUC and AUPRC"
      ]
    },
    {
      "cell_type": "code",
      "execution_count": null,
      "metadata": {
        "colab": {
          "base_uri": "https://localhost:8080/"
        },
        "id": "Qt4yKHTfZ_uy",
        "outputId": "074699cb-6023-4c30-a66d-4714fb8585ad"
      },
      "outputs": [
        {
          "output_type": "stream",
          "name": "stdout",
          "text": [
            "16/16 [==============================] - 0s 2ms/step\n"
          ]
        }
      ],
      "source": [
        "# Model predictions\n",
        "pred = model.predict(X_test_reshaped, batch_size=32).flatten()"
      ]
    },
    {
      "cell_type": "code",
      "execution_count": null,
      "metadata": {
        "colab": {
          "base_uri": "https://localhost:8080/"
        },
        "id": "8ACy_4SoZ_uy",
        "outputId": "1702b3e6-003d-4404-80c7-c8869b8f1f26"
      },
      "outputs": [
        {
          "output_type": "stream",
          "name": "stdout",
          "text": [
            "AUC 0.9984139444720358\n",
            "AUPRC 0.9983588601815832\n"
          ]
        }
      ],
      "source": [
        "fpr, tpr, thresholds = roc_curve(Y_test, pred)\n",
        "print(\"AUC\", auc(fpr, tpr))\n",
        "print(\"AUPRC\", average_precision_score(Y_test, pred))"
      ]
    }
  ],
  "metadata": {
    "anaconda-cloud": {},
    "kernelspec": {
      "display_name": "Python 3.9.12 ('condon_optimzation')",
      "language": "python",
      "name": "python3"
    },
    "language_info": {
      "codemirror_mode": {
        "name": "ipython",
        "version": 3
      },
      "file_extension": ".py",
      "mimetype": "text/x-python",
      "name": "python",
      "nbconvert_exporter": "python",
      "pygments_lexer": "ipython3",
      "version": "3.9.12"
    },
    "vscode": {
      "interpreter": {
        "hash": "6c9ad104059c90d12f50de5b72966553aaf7f663dcb89a78d88d441df52afa79"
      }
    },
    "colab": {
      "provenance": []
    }
  },
  "nbformat": 4,
  "nbformat_minor": 0
}